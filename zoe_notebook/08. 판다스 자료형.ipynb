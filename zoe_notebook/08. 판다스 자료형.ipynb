{
 "cells": [
  {
   "cell_type": "markdown",
   "metadata": {},
   "source": [
    "## 08-1. 자료형 다루기 ##"
   ]
  },
  {
   "cell_type": "markdown",
   "metadata": {},
   "source": [
    "**자료형을 자유자재로 변환하기 - astype 메서드**"
   ]
  },
  {
   "cell_type": "code",
   "execution_count": 1,
   "metadata": {},
   "outputs": [
    {
     "name": "stderr",
     "output_type": "stream",
     "text": [
      "\n",
      "Bad key \"text.kerning_factor\" on line 4 in\n",
      "C:\\Users\\zoe\\anaconda3\\envs\\deep\\lib\\site-packages\\matplotlib\\mpl-data\\stylelib\\_classic_test_patch.mplstyle.\n",
      "You probably need to get an updated matplotlibrc file from\n",
      "https://github.com/matplotlib/matplotlib/blob/v3.1.3/matplotlibrc.template\n",
      "or from the matplotlib source distribution\n"
     ]
    }
   ],
   "source": [
    "import pandas as pd\n",
    "import seaborn as sns\n",
    "\n",
    "tips = sns.load_dataset(\"tips\")"
   ]
  },
  {
   "cell_type": "code",
   "execution_count": 2,
   "metadata": {},
   "outputs": [],
   "source": [
    "tips['sex_str'] = tips['sex'].astype(str)"
   ]
  },
  {
   "cell_type": "code",
   "execution_count": 3,
   "metadata": {},
   "outputs": [
    {
     "name": "stdout",
     "output_type": "stream",
     "text": [
      "total_bill     float64\n",
      "tip            float64\n",
      "sex           category\n",
      "smoker        category\n",
      "day           category\n",
      "time          category\n",
      "size             int64\n",
      "sex_str         object\n",
      "dtype: object\n"
     ]
    }
   ],
   "source": [
    "print(tips.dtypes)"
   ]
  },
  {
   "cell_type": "code",
   "execution_count": 6,
   "metadata": {},
   "outputs": [
    {
     "name": "stdout",
     "output_type": "stream",
     "text": [
      "total_bill      object\n",
      "tip            float64\n",
      "sex           category\n",
      "smoker        category\n",
      "day           category\n",
      "time          category\n",
      "size             int64\n",
      "sex_str         object\n",
      "dtype: object\n"
     ]
    }
   ],
   "source": [
    "# 실수형 타입의 total_bill 문자열로 변환하기\n",
    "tips['total_bill'] = tips['total_bill'].astype(str)\n",
    "print(tips.dtypes)"
   ]
  },
  {
   "cell_type": "code",
   "execution_count": 8,
   "metadata": {},
   "outputs": [
    {
     "name": "stdout",
     "output_type": "stream",
     "text": [
      "total_bill     float64\n",
      "tip            float64\n",
      "sex           category\n",
      "smoker        category\n",
      "day           category\n",
      "time          category\n",
      "size             int64\n",
      "sex_str         object\n",
      "dtype: object\n"
     ]
    }
   ],
   "source": [
    "# 문자열로 변환한 total_bill 다시 실수형으로 변환하기\n",
    "tips['total_bill'] = tips['total_bill'].astype(float)\n",
    "print(tips.dtypes)"
   ]
  },
  {
   "cell_type": "markdown",
   "metadata": {},
   "source": [
    "**잘못 입력한 문자열 처리하기 - numeric 메서드**"
   ]
  },
  {
   "cell_type": "code",
   "execution_count": 10,
   "metadata": {},
   "outputs": [
    {
     "name": "stdout",
     "output_type": "stream",
     "text": [
      "  total_bill   tip     sex smoker  day    time  size sex_str\n",
      "0      16.99  1.01  Female     No  Sun  Dinner     2  Female\n",
      "1    missing  1.66    Male     No  Sun  Dinner     3    Male\n",
      "2      21.01  3.50    Male     No  Sun  Dinner     3    Male\n",
      "3    missing  3.31    Male     No  Sun  Dinner     2    Male\n",
      "4      24.59  3.61  Female     No  Sun  Dinner     4  Female\n",
      "5    missing  4.71    Male     No  Sun  Dinner     4    Male\n",
      "6       8.77  2.00    Male     No  Sun  Dinner     2    Male\n",
      "7    missing  3.12    Male     No  Sun  Dinner     4    Male\n",
      "8      15.04  1.96    Male     No  Sun  Dinner     2    Male\n",
      "9      14.78  3.23    Male     No  Sun  Dinner     2    Male\n"
     ]
    },
    {
     "name": "stderr",
     "output_type": "stream",
     "text": [
      "C:\\Users\\zoe\\anaconda3\\envs\\deep\\lib\\site-packages\\pandas\\core\\indexing.py:966: SettingWithCopyWarning: \n",
      "A value is trying to be set on a copy of a slice from a DataFrame.\n",
      "Try using .loc[row_indexer,col_indexer] = value instead\n",
      "\n",
      "See the caveats in the documentation: https://pandas.pydata.org/pandas-docs/stable/user_guide/indexing.html#returning-a-view-versus-a-copy\n",
      "  self.obj[item] = s\n"
     ]
    }
   ],
   "source": [
    "tips_sub_miss = tips.head(10)\n",
    "tips_sub_miss.loc[[1, 3, 5, 7], 'total_bill'] = 'missing'\n",
    "print(tips_sub_miss)"
   ]
  },
  {
   "cell_type": "code",
   "execution_count": 12,
   "metadata": {},
   "outputs": [
    {
     "name": "stdout",
     "output_type": "stream",
     "text": [
      "total_bill      object\n",
      "tip            float64\n",
      "sex           category\n",
      "smoker        category\n",
      "day           category\n",
      "time          category\n",
      "size             int64\n",
      "sex_str         object\n",
      "dtype: object\n"
     ]
    }
   ],
   "source": [
    "print(tips_sub_miss.dtypes)\n",
    "# total_bill은 실수형이지만 missing이라는 문자열 때문에 문자열 타입으로 확인된다"
   ]
  },
  {
   "cell_type": "markdown",
   "metadata": {},
   "source": [
    "total_bill 열의 데이터를 실수로 변환하려 하면 오류가 발생한다. missing이라는 문자열을 실수로 변환할 수 없기 때문이다.  \n",
    "to_numeric 메서드의 error 인자에 raise, coerce, ignore를 지정하면 오류를 어느정도 제어할 수 있다.  \n",
    "**raise** : 숫자로 변환할 수 없는 값이 있으면 오류 발생  \n",
    "**coerce** : 숫자로 변환할 수 없는 값을 누락값으로 지정  \n",
    "**ignore** : 아무 작업도 하지 않음"
   ]
  },
  {
   "cell_type": "code",
   "execution_count": 13,
   "metadata": {},
   "outputs": [
    {
     "name": "stdout",
     "output_type": "stream",
     "text": [
      "total_bill      object\n",
      "tip            float64\n",
      "sex           category\n",
      "smoker        category\n",
      "day           category\n",
      "time          category\n",
      "size             int64\n",
      "sex_str         object\n",
      "dtype: object\n"
     ]
    },
    {
     "name": "stderr",
     "output_type": "stream",
     "text": [
      "C:\\Users\\zoe\\anaconda3\\envs\\deep\\lib\\site-packages\\ipykernel_launcher.py:2: SettingWithCopyWarning: \n",
      "A value is trying to be set on a copy of a slice from a DataFrame.\n",
      "Try using .loc[row_indexer,col_indexer] = value instead\n",
      "\n",
      "See the caveats in the documentation: https://pandas.pydata.org/pandas-docs/stable/user_guide/indexing.html#returning-a-view-versus-a-copy\n",
      "  \n"
     ]
    }
   ],
   "source": [
    "# ignore : 오류가 발생하지 않지만 자료형도 변하지 않는다.\n",
    "tips_sub_miss['total_bill'] = pd.to_numeric(tips_sub_miss['total_bill'], errors='ignore')\n",
    "print(tips_sub_miss.dtypes)"
   ]
  },
  {
   "cell_type": "code",
   "execution_count": 17,
   "metadata": {},
   "outputs": [
    {
     "name": "stdout",
     "output_type": "stream",
     "text": [
      "total_bill     float64\n",
      "tip            float64\n",
      "sex           category\n",
      "smoker        category\n",
      "day           category\n",
      "time          category\n",
      "size             int64\n",
      "sex_str         object\n",
      "dtype: object\n"
     ]
    },
    {
     "name": "stderr",
     "output_type": "stream",
     "text": [
      "C:\\Users\\zoe\\anaconda3\\envs\\deep\\lib\\site-packages\\ipykernel_launcher.py:2: SettingWithCopyWarning: \n",
      "A value is trying to be set on a copy of a slice from a DataFrame.\n",
      "Try using .loc[row_indexer,col_indexer] = value instead\n",
      "\n",
      "See the caveats in the documentation: https://pandas.pydata.org/pandas-docs/stable/user_guide/indexing.html#returning-a-view-versus-a-copy\n",
      "  \n"
     ]
    }
   ],
   "source": [
    "# coerce : 자료형이 실수로 바뀌지만 'missing' 값이 누락값(NaN)으로 바뀐다.\n",
    "tips_sub_miss['total_bill'] = pd.to_numeric(tips_sub_miss['total_bill'], errors='coerce')\n",
    "print(tips_sub_miss.dtypes)"
   ]
  },
  {
   "cell_type": "code",
   "execution_count": 18,
   "metadata": {},
   "outputs": [
    {
     "name": "stdout",
     "output_type": "stream",
     "text": [
      "   total_bill   tip     sex smoker  day    time  size sex_str\n",
      "0       16.99  1.01  Female     No  Sun  Dinner     2  Female\n",
      "1         NaN  1.66    Male     No  Sun  Dinner     3    Male\n",
      "2       21.01  3.50    Male     No  Sun  Dinner     3    Male\n",
      "3         NaN  3.31    Male     No  Sun  Dinner     2    Male\n",
      "4       24.59  3.61  Female     No  Sun  Dinner     4  Female\n",
      "5         NaN  4.71    Male     No  Sun  Dinner     4    Male\n",
      "6        8.77  2.00    Male     No  Sun  Dinner     2    Male\n",
      "7         NaN  3.12    Male     No  Sun  Dinner     4    Male\n",
      "8       15.04  1.96    Male     No  Sun  Dinner     2    Male\n",
      "9       14.78  3.23    Male     No  Sun  Dinner     2    Male\n"
     ]
    }
   ],
   "source": [
    "print(tips_sub_miss)"
   ]
  },
  {
   "cell_type": "code",
   "execution_count": 19,
   "metadata": {},
   "outputs": [
    {
     "name": "stdout",
     "output_type": "stream",
     "text": [
      "total_bill     float32\n",
      "tip            float64\n",
      "sex           category\n",
      "smoker        category\n",
      "day           category\n",
      "time          category\n",
      "size             int64\n",
      "sex_str         object\n",
      "dtype: object\n"
     ]
    },
    {
     "name": "stderr",
     "output_type": "stream",
     "text": [
      "C:\\Users\\zoe\\anaconda3\\envs\\deep\\lib\\site-packages\\ipykernel_launcher.py:3: SettingWithCopyWarning: \n",
      "A value is trying to be set on a copy of a slice from a DataFrame.\n",
      "Try using .loc[row_indexer,col_indexer] = value instead\n",
      "\n",
      "See the caveats in the documentation: https://pandas.pydata.org/pandas-docs/stable/user_guide/indexing.html#returning-a-view-versus-a-copy\n",
      "  This is separate from the ipykernel package so we can avoid doing imports until\n"
     ]
    }
   ],
   "source": [
    "# to_numeric 메서드에는 errors 인자 외에도 downcast 인자가 있다.\n",
    "# downcast는 정수, 실수와 같은 자료형을 더 작은 형태로 만들 때 사용한다.\n",
    "tips_sub_miss['total_bill'] = pd.to_numeric(tips_sub_miss['total_bill'], errors='coerce', downcast='float')\n",
    "print(tips_sub_miss.dtypes)"
   ]
  },
  {
   "cell_type": "markdown",
   "metadata": {},
   "source": [
    "## 08-2. 카테고리 자료형##"
   ]
  },
  {
   "cell_type": "markdown",
   "metadata": {},
   "source": [
    "**카테고리 자료형의 장점과 특징**   \n",
    "- 용량과 속도 면에서 매우 효율적이다.  \n",
    "- 주로 동일한 문자열이 반복되어 데이터를 구성하는 경우에 사용한다."
   ]
  },
  {
   "cell_type": "code",
   "execution_count": 20,
   "metadata": {},
   "outputs": [
    {
     "name": "stdout",
     "output_type": "stream",
     "text": [
      "<class 'pandas.core.frame.DataFrame'>\n",
      "RangeIndex: 244 entries, 0 to 243\n",
      "Data columns (total 8 columns):\n",
      " #   Column      Non-Null Count  Dtype   \n",
      "---  ------      --------------  -----   \n",
      " 0   total_bill  244 non-null    float64 \n",
      " 1   tip         244 non-null    float64 \n",
      " 2   sex         244 non-null    object  \n",
      " 3   smoker      244 non-null    category\n",
      " 4   day         244 non-null    category\n",
      " 5   time        244 non-null    category\n",
      " 6   size        244 non-null    int64   \n",
      " 7   sex_str     244 non-null    object  \n",
      "dtypes: category(3), float64(2), int64(1), object(2)\n",
      "memory usage: 10.7+ KB\n",
      "None\n"
     ]
    }
   ],
   "source": [
    "tips['sex'] = tips['sex'].astype('str')\n",
    "print(tips.info())"
   ]
  },
  {
   "cell_type": "code",
   "execution_count": 21,
   "metadata": {},
   "outputs": [
    {
     "name": "stdout",
     "output_type": "stream",
     "text": [
      "<class 'pandas.core.frame.DataFrame'>\n",
      "RangeIndex: 244 entries, 0 to 243\n",
      "Data columns (total 8 columns):\n",
      " #   Column      Non-Null Count  Dtype   \n",
      "---  ------      --------------  -----   \n",
      " 0   total_bill  244 non-null    float64 \n",
      " 1   tip         244 non-null    float64 \n",
      " 2   sex         244 non-null    category\n",
      " 3   smoker      244 non-null    category\n",
      " 4   day         244 non-null    category\n",
      " 5   time        244 non-null    category\n",
      " 6   size        244 non-null    int64   \n",
      " 7   sex_str     244 non-null    object  \n",
      "dtypes: category(4), float64(2), int64(1), object(1)\n",
      "memory usage: 9.2+ KB\n",
      "None\n"
     ]
    }
   ],
   "source": [
    "tips['sex'] = tips['sex'].astype('category')\n",
    "print(tips.info())"
   ]
  }
 ],
 "metadata": {
  "kernelspec": {
   "display_name": "Python 3",
   "language": "python",
   "name": "python3"
  },
  "language_info": {
   "codemirror_mode": {
    "name": "ipython",
    "version": 3
   },
   "file_extension": ".py",
   "mimetype": "text/x-python",
   "name": "python",
   "nbconvert_exporter": "python",
   "pygments_lexer": "ipython3",
   "version": "3.7.7"
  }
 },
 "nbformat": 4,
 "nbformat_minor": 4
}
